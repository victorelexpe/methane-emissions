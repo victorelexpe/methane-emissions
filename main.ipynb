{
 "cells": [
  {
   "cell_type": "code",
   "execution_count": 2,
   "id": "948178c7-d492-41c6-b0f3-0ea6bb633651",
   "metadata": {},
   "outputs": [],
   "source": [
    "import pandas as pd"
   ]
  },
  {
   "cell_type": "markdown",
   "id": "705be5fe-3d0e-49f4-927a-5bc98a9cd9ef",
   "metadata": {},
   "source": [
    "# Data preparation"
   ]
  },
  {
   "cell_type": "code",
   "execution_count": 39,
   "id": "d56fdf3a-1ac6-4191-8370-b625263dfb0b",
   "metadata": {},
   "outputs": [],
   "source": [
    "# Read file\n",
    "df = pd.read_csv(\"methane_hist_emissions.csv\")\n",
    "\n",
    "# Drop columns that always have the same value\n",
    "for i in df.columns:\n",
    "    if len(df[i].unique()) == 1:\n",
    "        df = df.drop(i, axis=1)\n",
    "\n",
    "# Reorganize the dataframe changing the years in columns to rows\n",
    "df = df.melt(id_vars=[\"Country\", \"Sector\"], var_name=\"Date\", value_name=\"Value\")\n",
    "\n",
    "# Remove all the rows that have already grouped data like World and European Union counters.\n",
    "df.drop(df[df.Country == 'World'].index, inplace=True)\n",
    "df.drop(df[df.Country == 'European Union (27)'].index, inplace=True)\n",
    "df.drop(df[df.Sector == 'Total excluding LUCF'].index, inplace=True)\n",
    "df.drop(df[df.Sector == 'Total including LUCF'].index, inplace=True)\n",
    "\n",
    "# Sort the dataframe so it can be displayed more apropiately\n",
    "df = df.sort_values(by=['Country', 'Sector', 'Date'])\n",
    "\n",
    "df = df.rename(columns={\"Value\": \"Measures\"})\n",
    "\n",
    "df = df.reset_index(drop=True)\n",
    "\n",
    "df.to_csv('./clean_methane_hist_emissions.csv', index=False)"
   ]
  },
  {
   "cell_type": "code",
   "execution_count": 37,
   "id": "c80171e2-c790-4a68-89d7-122d8f28e9d5",
   "metadata": {},
   "outputs": [],
   "source": [
    "countries = df['Country'].unique()"
   ]
  },
  {
   "cell_type": "code",
   "execution_count": 38,
   "id": "d67da696-e60f-4b1e-9104-450eb9d1ead0",
   "metadata": {},
   "outputs": [],
   "source": [
    "sectors = df['Sector'].unique()"
   ]
  }
 ],
 "metadata": {
  "kernelspec": {
   "display_name": "Python 3 (ipykernel)",
   "language": "python",
   "name": "python3"
  },
  "language_info": {
   "codemirror_mode": {
    "name": "ipython",
    "version": 3
   },
   "file_extension": ".py",
   "mimetype": "text/x-python",
   "name": "python",
   "nbconvert_exporter": "python",
   "pygments_lexer": "ipython3",
   "version": "3.9.7"
  }
 },
 "nbformat": 4,
 "nbformat_minor": 5
}
